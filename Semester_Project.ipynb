{
  "nbformat": 4,
  "nbformat_minor": 0,
  "metadata": {
    "colab": {
      "provenance": []
    },
    "kernelspec": {
      "name": "python3",
      "display_name": "Python 3"
    },
    "language_info": {
      "name": "python"
    }
  },
  "cells": [
    {
      "cell_type": "markdown",
      "source": [
        "Step 1: Install PySpark in Colab"
      ],
      "metadata": {
        "id": "Nhsodmop2cji"
      }
    },
    {
      "cell_type": "code",
      "execution_count": null,
      "metadata": {
        "colab": {
          "base_uri": "https://localhost:8080/"
        },
        "id": "CYplwtGMp4fY",
        "outputId": "38cae064-ff88-46fc-d15e-3c2348f20890"
      },
      "outputs": [
        {
          "output_type": "stream",
          "name": "stdout",
          "text": [
            "Requirement already satisfied: pyspark in /usr/local/lib/python3.11/dist-packages (3.5.1)\n",
            "Requirement already satisfied: py4j==0.10.9.7 in /usr/local/lib/python3.11/dist-packages (from pyspark) (0.10.9.7)\n"
          ]
        }
      ],
      "source": [
        "!pip install pyspark"
      ]
    },
    {
      "cell_type": "markdown",
      "source": [
        " Step 2: Sample Apache Log File"
      ],
      "metadata": {
        "id": "JFJEXXdy2WCK"
      }
    },
    {
      "cell_type": "code",
      "source": [
        "!wget https://raw.githubusercontent.com/elastic/examples/master/Common%20Data%20Formats/apache_logs/apache_logs -O access.log"
      ],
      "metadata": {
        "colab": {
          "base_uri": "https://localhost:8080/"
        },
        "id": "8geWgYxxvdT7",
        "outputId": "6a53d2a6-23bc-409a-e2a9-34486fda2859"
      },
      "execution_count": null,
      "outputs": [
        {
          "output_type": "stream",
          "name": "stdout",
          "text": [
            "--2025-05-21 08:32:34--  https://raw.githubusercontent.com/elastic/examples/master/Common%20Data%20Formats/apache_logs/apache_logs\n",
            "Resolving raw.githubusercontent.com (raw.githubusercontent.com)... 185.199.108.133, 185.199.109.133, 185.199.110.133, ...\n",
            "Connecting to raw.githubusercontent.com (raw.githubusercontent.com)|185.199.108.133|:443... connected.\n",
            "HTTP request sent, awaiting response... 200 OK\n",
            "Length: 2370789 (2.3M) [text/plain]\n",
            "Saving to: ‘access.log’\n",
            "\n",
            "access.log          100%[===================>]   2.26M  --.-KB/s    in 0.06s   \n",
            "\n",
            "2025-05-21 08:32:34 (41.1 MB/s) - ‘access.log’ saved [2370789/2370789]\n",
            "\n"
          ]
        }
      ]
    },
    {
      "cell_type": "markdown",
      "source": [
        "Step 3: Start PySpark Session and Load Logs"
      ],
      "metadata": {
        "id": "DEb57TKz2P6U"
      }
    },
    {
      "cell_type": "code",
      "source": [
        "from pyspark.sql import SparkSession\n",
        "\n",
        "spark = SparkSession.builder.appName(\"Log Analyzer\").getOrCreate()\n",
        "\n",
        "log_df = spark.read.text(\"access.log\")\n",
        "log_df.show(20, truncate=False)"
      ],
      "metadata": {
        "colab": {
          "base_uri": "https://localhost:8080/"
        },
        "id": "LAqYth9Av89q",
        "outputId": "5fd6592b-234d-4898-d2e8-0b8341c9a184"
      },
      "execution_count": null,
      "outputs": [
        {
          "output_type": "stream",
          "name": "stdout",
          "text": [
            "+------------------------------------------------------------------------------------------------------------------------------------------------------------------------------------------------------------------------------------------------------------------------------------------------------------------------------------------------------+\n",
            "|value                                                                                                                                                                                                                                                                                                                                                 |\n",
            "+------------------------------------------------------------------------------------------------------------------------------------------------------------------------------------------------------------------------------------------------------------------------------------------------------------------------------------------------------+\n",
            "|83.149.9.216 - - [17/May/2015:10:05:03 +0000] \"GET /presentations/logstash-monitorama-2013/images/kibana-search.png HTTP/1.1\" 200 203023 \"http://semicomplete.com/presentations/logstash-monitorama-2013/\" \"Mozilla/5.0 (Macintosh; Intel Mac OS X 10_9_1) AppleWebKit/537.36 (KHTML, like Gecko) Chrome/32.0.1700.77 Safari/537.36\"                  |\n",
            "|83.149.9.216 - - [17/May/2015:10:05:43 +0000] \"GET /presentations/logstash-monitorama-2013/images/kibana-dashboard3.png HTTP/1.1\" 200 171717 \"http://semicomplete.com/presentations/logstash-monitorama-2013/\" \"Mozilla/5.0 (Macintosh; Intel Mac OS X 10_9_1) AppleWebKit/537.36 (KHTML, like Gecko) Chrome/32.0.1700.77 Safari/537.36\"              |\n",
            "|83.149.9.216 - - [17/May/2015:10:05:47 +0000] \"GET /presentations/logstash-monitorama-2013/plugin/highlight/highlight.js HTTP/1.1\" 200 26185 \"http://semicomplete.com/presentations/logstash-monitorama-2013/\" \"Mozilla/5.0 (Macintosh; Intel Mac OS X 10_9_1) AppleWebKit/537.36 (KHTML, like Gecko) Chrome/32.0.1700.77 Safari/537.36\"              |\n",
            "|83.149.9.216 - - [17/May/2015:10:05:12 +0000] \"GET /presentations/logstash-monitorama-2013/plugin/zoom-js/zoom.js HTTP/1.1\" 200 7697 \"http://semicomplete.com/presentations/logstash-monitorama-2013/\" \"Mozilla/5.0 (Macintosh; Intel Mac OS X 10_9_1) AppleWebKit/537.36 (KHTML, like Gecko) Chrome/32.0.1700.77 Safari/537.36\"                      |\n",
            "|83.149.9.216 - - [17/May/2015:10:05:07 +0000] \"GET /presentations/logstash-monitorama-2013/plugin/notes/notes.js HTTP/1.1\" 200 2892 \"http://semicomplete.com/presentations/logstash-monitorama-2013/\" \"Mozilla/5.0 (Macintosh; Intel Mac OS X 10_9_1) AppleWebKit/537.36 (KHTML, like Gecko) Chrome/32.0.1700.77 Safari/537.36\"                       |\n",
            "|83.149.9.216 - - [17/May/2015:10:05:34 +0000] \"GET /presentations/logstash-monitorama-2013/images/sad-medic.png HTTP/1.1\" 200 430406 \"http://semicomplete.com/presentations/logstash-monitorama-2013/\" \"Mozilla/5.0 (Macintosh; Intel Mac OS X 10_9_1) AppleWebKit/537.36 (KHTML, like Gecko) Chrome/32.0.1700.77 Safari/537.36\"                      |\n",
            "|83.149.9.216 - - [17/May/2015:10:05:57 +0000] \"GET /presentations/logstash-monitorama-2013/css/fonts/Roboto-Bold.ttf HTTP/1.1\" 200 38720 \"http://semicomplete.com/presentations/logstash-monitorama-2013/\" \"Mozilla/5.0 (Macintosh; Intel Mac OS X 10_9_1) AppleWebKit/537.36 (KHTML, like Gecko) Chrome/32.0.1700.77 Safari/537.36\"                  |\n",
            "|83.149.9.216 - - [17/May/2015:10:05:50 +0000] \"GET /presentations/logstash-monitorama-2013/css/fonts/Roboto-Regular.ttf HTTP/1.1\" 200 41820 \"http://semicomplete.com/presentations/logstash-monitorama-2013/\" \"Mozilla/5.0 (Macintosh; Intel Mac OS X 10_9_1) AppleWebKit/537.36 (KHTML, like Gecko) Chrome/32.0.1700.77 Safari/537.36\"               |\n",
            "|83.149.9.216 - - [17/May/2015:10:05:24 +0000] \"GET /presentations/logstash-monitorama-2013/images/frontend-response-codes.png HTTP/1.1\" 200 52878 \"http://semicomplete.com/presentations/logstash-monitorama-2013/\" \"Mozilla/5.0 (Macintosh; Intel Mac OS X 10_9_1) AppleWebKit/537.36 (KHTML, like Gecko) Chrome/32.0.1700.77 Safari/537.36\"         |\n",
            "|83.149.9.216 - - [17/May/2015:10:05:50 +0000] \"GET /presentations/logstash-monitorama-2013/images/kibana-dashboard.png HTTP/1.1\" 200 321631 \"http://semicomplete.com/presentations/logstash-monitorama-2013/\" \"Mozilla/5.0 (Macintosh; Intel Mac OS X 10_9_1) AppleWebKit/537.36 (KHTML, like Gecko) Chrome/32.0.1700.77 Safari/537.36\"               |\n",
            "|83.149.9.216 - - [17/May/2015:10:05:46 +0000] \"GET /presentations/logstash-monitorama-2013/images/Dreamhost_logo.svg HTTP/1.1\" 200 2126 \"http://semicomplete.com/presentations/logstash-monitorama-2013/\" \"Mozilla/5.0 (Macintosh; Intel Mac OS X 10_9_1) AppleWebKit/537.36 (KHTML, like Gecko) Chrome/32.0.1700.77 Safari/537.36\"                   |\n",
            "|83.149.9.216 - - [17/May/2015:10:05:11 +0000] \"GET /presentations/logstash-monitorama-2013/images/kibana-dashboard2.png HTTP/1.1\" 200 394967 \"http://semicomplete.com/presentations/logstash-monitorama-2013/\" \"Mozilla/5.0 (Macintosh; Intel Mac OS X 10_9_1) AppleWebKit/537.36 (KHTML, like Gecko) Chrome/32.0.1700.77 Safari/537.36\"              |\n",
            "|83.149.9.216 - - [17/May/2015:10:05:19 +0000] \"GET /presentations/logstash-monitorama-2013/images/apache-icon.gif HTTP/1.1\" 200 8095 \"http://semicomplete.com/presentations/logstash-monitorama-2013/\" \"Mozilla/5.0 (Macintosh; Intel Mac OS X 10_9_1) AppleWebKit/537.36 (KHTML, like Gecko) Chrome/32.0.1700.77 Safari/537.36\"                      |\n",
            "|83.149.9.216 - - [17/May/2015:10:05:33 +0000] \"GET /presentations/logstash-monitorama-2013/images/nagios-sms5.png HTTP/1.1\" 200 78075 \"http://semicomplete.com/presentations/logstash-monitorama-2013/\" \"Mozilla/5.0 (Macintosh; Intel Mac OS X 10_9_1) AppleWebKit/537.36 (KHTML, like Gecko) Chrome/32.0.1700.77 Safari/537.36\"                     |\n",
            "|83.149.9.216 - - [17/May/2015:10:05:00 +0000] \"GET /presentations/logstash-monitorama-2013/images/redis.png HTTP/1.1\" 200 25230 \"http://semicomplete.com/presentations/logstash-monitorama-2013/\" \"Mozilla/5.0 (Macintosh; Intel Mac OS X 10_9_1) AppleWebKit/537.36 (KHTML, like Gecko) Chrome/32.0.1700.77 Safari/537.36\"                           |\n",
            "|83.149.9.216 - - [17/May/2015:10:05:25 +0000] \"GET /presentations/logstash-monitorama-2013/images/elasticsearch.png HTTP/1.1\" 200 8026 \"http://semicomplete.com/presentations/logstash-monitorama-2013/\" \"Mozilla/5.0 (Macintosh; Intel Mac OS X 10_9_1) AppleWebKit/537.36 (KHTML, like Gecko) Chrome/32.0.1700.77 Safari/537.36\"                    |\n",
            "|83.149.9.216 - - [17/May/2015:10:05:59 +0000] \"GET /presentations/logstash-monitorama-2013/images/logstashbook.png HTTP/1.1\" 200 54662 \"http://semicomplete.com/presentations/logstash-monitorama-2013/\" \"Mozilla/5.0 (Macintosh; Intel Mac OS X 10_9_1) AppleWebKit/537.36 (KHTML, like Gecko) Chrome/32.0.1700.77 Safari/537.36\"                    |\n",
            "|83.149.9.216 - - [17/May/2015:10:05:30 +0000] \"GET /presentations/logstash-monitorama-2013/images/github-contributions.png HTTP/1.1\" 200 34245 \"http://semicomplete.com/presentations/logstash-monitorama-2013/\" \"Mozilla/5.0 (Macintosh; Intel Mac OS X 10_9_1) AppleWebKit/537.36 (KHTML, like Gecko) Chrome/32.0.1700.77 Safari/537.36\"            |\n",
            "|83.149.9.216 - - [17/May/2015:10:05:53 +0000] \"GET /presentations/logstash-monitorama-2013/css/print/paper.css HTTP/1.1\" 200 4254 \"http://semicomplete.com/presentations/logstash-monitorama-2013/\" \"Mozilla/5.0 (Macintosh; Intel Mac OS X 10_9_1) AppleWebKit/537.36 (KHTML, like Gecko) Chrome/32.0.1700.77 Safari/537.36\"                         |\n",
            "|83.149.9.216 - - [17/May/2015:10:05:24 +0000] \"GET /presentations/logstash-monitorama-2013/images/1983_delorean_dmc-12-pic-38289.jpeg HTTP/1.1\" 200 220562 \"http://semicomplete.com/presentations/logstash-monitorama-2013/\" \"Mozilla/5.0 (Macintosh; Intel Mac OS X 10_9_1) AppleWebKit/537.36 (KHTML, like Gecko) Chrome/32.0.1700.77 Safari/537.36\"|\n",
            "+------------------------------------------------------------------------------------------------------------------------------------------------------------------------------------------------------------------------------------------------------------------------------------------------------------------------------------------------------+\n",
            "only showing top 20 rows\n",
            "\n"
          ]
        }
      ]
    },
    {
      "cell_type": "markdown",
      "source": [
        "Step 4: Parse Log Data using Regex"
      ],
      "metadata": {
        "id": "NdWCx0gZ2Fv2"
      }
    },
    {
      "cell_type": "code",
      "source": [
        "from pyspark.sql.functions import regexp_extract\n",
        "\n",
        "log_pattern = r'(^\\S+) - - \\[(.*?)\\] \"(.*?)\" (\\d{3}) (\\d+)'\n",
        "\n",
        "parsed_logs = log_df.select(\n",
        "    regexp_extract('value', log_pattern, 1).alias('ip'),\n",
        "    regexp_extract('value', log_pattern, 2).alias('timestamp'),\n",
        "    regexp_extract('value', log_pattern, 3).alias('request'),\n",
        "    regexp_extract('value', log_pattern, 4).alias('status'),\n",
        "    regexp_extract('value', log_pattern, 5).alias('bytes')\n",
        ")\n",
        "\n",
        "parsed_logs.show(10)"
      ],
      "metadata": {
        "colab": {
          "base_uri": "https://localhost:8080/"
        },
        "id": "PyhbZP7Fwa5R",
        "outputId": "d7320c6b-4702-4b02-b276-30d7827a6f07"
      },
      "execution_count": null,
      "outputs": [
        {
          "output_type": "stream",
          "name": "stdout",
          "text": [
            "+------------+--------------------+--------------------+------+------+\n",
            "|          ip|           timestamp|             request|status| bytes|\n",
            "+------------+--------------------+--------------------+------+------+\n",
            "|83.149.9.216|17/May/2015:10:05...|GET /presentation...|   200|203023|\n",
            "|83.149.9.216|17/May/2015:10:05...|GET /presentation...|   200|171717|\n",
            "|83.149.9.216|17/May/2015:10:05...|GET /presentation...|   200| 26185|\n",
            "|83.149.9.216|17/May/2015:10:05...|GET /presentation...|   200|  7697|\n",
            "|83.149.9.216|17/May/2015:10:05...|GET /presentation...|   200|  2892|\n",
            "|83.149.9.216|17/May/2015:10:05...|GET /presentation...|   200|430406|\n",
            "|83.149.9.216|17/May/2015:10:05...|GET /presentation...|   200| 38720|\n",
            "|83.149.9.216|17/May/2015:10:05...|GET /presentation...|   200| 41820|\n",
            "|83.149.9.216|17/May/2015:10:05...|GET /presentation...|   200| 52878|\n",
            "|83.149.9.216|17/May/2015:10:05...|GET /presentation...|   200|321631|\n",
            "+------------+--------------------+--------------------+------+------+\n",
            "only showing top 10 rows\n",
            "\n"
          ]
        }
      ]
    },
    {
      "cell_type": "markdown",
      "source": [
        "Step 5: Analysis"
      ],
      "metadata": {
        "id": "sOgF_swt18J3"
      }
    },
    {
      "cell_type": "code",
      "source": [
        "parsed_logs.groupBy(\"ip\").count().orderBy(\"count\", ascending=False).show(15)"
      ],
      "metadata": {
        "colab": {
          "base_uri": "https://localhost:8080/"
        },
        "id": "Uj3SQNnew7cb",
        "outputId": "abbe89fa-0d32-44d8-c2cc-17daf1144976"
      },
      "execution_count": null,
      "outputs": [
        {
          "output_type": "stream",
          "name": "stdout",
          "text": [
            "+---------------+-----+\n",
            "|             ip|count|\n",
            "+---------------+-----+\n",
            "|               |  669|\n",
            "|  66.249.73.135|  432|\n",
            "|   46.105.14.53|  364|\n",
            "| 130.237.218.86|  293|\n",
            "|    50.16.19.13|  113|\n",
            "| 209.85.238.199|  102|\n",
            "|     75.97.9.59|   99|\n",
            "| 68.180.224.225|   95|\n",
            "| 198.46.149.143|   82|\n",
            "| 208.115.111.72|   73|\n",
            "| 208.115.113.88|   66|\n",
            "|108.171.116.194|   65|\n",
            "|  208.91.156.11|   60|\n",
            "|   65.55.213.73|   59|\n",
            "|  100.43.83.137|   53|\n",
            "+---------------+-----+\n",
            "only showing top 15 rows\n",
            "\n"
          ]
        }
      ]
    },
    {
      "cell_type": "markdown",
      "source": [
        "Most Frequent URLs:"
      ],
      "metadata": {
        "id": "-4RiKsGh13Bh"
      }
    },
    {
      "cell_type": "code",
      "source": [
        "from pyspark.sql.functions import split\n",
        "\n",
        "parsed_logs = parsed_logs.withColumn(\"url\", split(\"request\", \" \").getItem(1))\n",
        "parsed_logs.groupBy(\"url\").count().orderBy(\"count\", ascending=False).show(13)"
      ],
      "metadata": {
        "colab": {
          "base_uri": "https://localhost:8080/"
        },
        "id": "zzQrT03QxFFi",
        "outputId": "c0d8a9f9-7c7b-423f-b1e8-b1641f3ee4e1"
      },
      "execution_count": null,
      "outputs": [
        {
          "output_type": "stream",
          "name": "stdout",
          "text": [
            "+--------------------+-----+\n",
            "|                 url|count|\n",
            "+--------------------+-----+\n",
            "|        /favicon.ico|  788|\n",
            "|                NULL|  669|\n",
            "|         /style2.css|  532|\n",
            "|          /reset.css|  528|\n",
            "|/images/jordan-80...|  522|\n",
            "|/images/web/2009/...|  506|\n",
            "|/blog/tags/puppet...|  488|\n",
            "|  /projects/xdotool/|  221|\n",
            "|        /?flav=rss20|  217|\n",
            "|                   /|  194|\n",
            "|/projects/xdotool...|  147|\n",
            "|         /?flav=atom|  137|\n",
            "|/articles/dynamic...|  135|\n",
            "+--------------------+-----+\n",
            "only showing top 13 rows\n",
            "\n"
          ]
        }
      ]
    },
    {
      "cell_type": "markdown",
      "source": [
        "Status Code Distribution:"
      ],
      "metadata": {
        "id": "7n5_H8z31xMD"
      }
    },
    {
      "cell_type": "code",
      "source": [
        "parsed_logs.groupBy(\"status\").count().orderBy(\"count\", ascending=False).show()"
      ],
      "metadata": {
        "colab": {
          "base_uri": "https://localhost:8080/"
        },
        "id": "UGbzrDZlxhfx",
        "outputId": "3144a646-858f-4af2-b652-531bdf96f559"
      },
      "execution_count": null,
      "outputs": [
        {
          "output_type": "stream",
          "name": "stdout",
          "text": [
            "+------+-----+\n",
            "|status|count|\n",
            "+------+-----+\n",
            "|   200| 8913|\n",
            "|      |  669|\n",
            "|   404|  205|\n",
            "|   301|  163|\n",
            "|   206|   45|\n",
            "|   403|    2|\n",
            "|   416|    2|\n",
            "|   500|    1|\n",
            "+------+-----+\n",
            "\n"
          ]
        }
      ]
    },
    {
      "cell_type": "markdown",
      "source": [
        "Error Logs (4xx or 5xx):"
      ],
      "metadata": {
        "id": "jQ2KuRY11qkv"
      }
    },
    {
      "cell_type": "code",
      "source": [
        "error_logs = parsed_logs.filter(parsed_logs.status.startswith(\"4\") | parsed_logs.status.startswith(\"5\"))\n",
        "error_logs.groupBy(\"status\").count().show()"
      ],
      "metadata": {
        "colab": {
          "base_uri": "https://localhost:8080/"
        },
        "id": "fNXs60RTxrEs",
        "outputId": "29c72dfa-5d0d-43ba-f97b-5f63127fa825"
      },
      "execution_count": null,
      "outputs": [
        {
          "output_type": "stream",
          "name": "stdout",
          "text": [
            "+------+-----+\n",
            "|status|count|\n",
            "+------+-----+\n",
            "|   404|  205|\n",
            "|   403|    2|\n",
            "|   416|    2|\n",
            "|   500|    1|\n",
            "+------+-----+\n",
            "\n"
          ]
        }
      ]
    },
    {
      "cell_type": "markdown",
      "source": [
        "Step 6: Visualize in Colab"
      ],
      "metadata": {
        "id": "aeA69XWX1lf9"
      }
    },
    {
      "cell_type": "code",
      "source": [
        "top_ips = parsed_logs.groupBy(\"ip\").count().orderBy(\"count\", ascending=False).limit(15).toPandas()\n",
        "\n",
        "import matplotlib.pyplot as plt\n",
        "plt.figure(figsize=(10, 5))\n",
        "plt.bar(top_ips['ip'], top_ips['count'])\n",
        "plt.xticks(rotation=45)\n",
        "plt.title(\"Top 15 IP Addresses\")\n",
        "plt.xlabel(\"IP Address\")\n",
        "plt.ylabel(\"Request Count\")\n",
        "plt.tight_layout()\n",
        "plt.show()"
      ],
      "metadata": {
        "colab": {
          "base_uri": "https://localhost:8080/",
          "height": 507
        },
        "id": "Bk4uAWiwx0ys",
        "outputId": "097037ca-fe68-4ca3-b439-3a215fbde6b7"
      },
      "execution_count": null,
      "outputs": [
        {
          "output_type": "display_data",
          "data": {
            "text/plain": [
              "<Figure size 1000x500 with 1 Axes>"
            ],
            "image/png": "[encoded data removed]"
          },
          "metadata": {}
        }
      ]
    }
  ]
}